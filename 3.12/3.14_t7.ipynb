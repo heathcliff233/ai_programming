{
 "cells": [
  {
   "cell_type": "code",
   "execution_count": 12,
   "metadata": {},
   "outputs": [
    {
     "name": "stdin",
     "output_type": "stream",
     "text": [
      " 90\n"
     ]
    },
    {
     "name": "stdout",
     "output_type": "stream",
     "text": [
      "90  = 2*3*3*5\n"
     ]
    }
   ],
   "source": [
    "x = int(input())\n",
    "y=x\n",
    "print(y,'= ',end='')\n",
    "while(x != 1):\n",
    "    t = x\n",
    "    i = 2\n",
    "    while(bool(t == x)):\n",
    "        if(x%i==0):\n",
    "            x /= i\n",
    "            if(x==1):\n",
    "                print(i)\n",
    "            else:\n",
    "                print(\"%d*\"%i,end='')\n",
    "        else:\n",
    "            i += 1"
   ]
  },
  {
   "cell_type": "code",
   "execution_count": null,
   "metadata": {},
   "outputs": [],
   "source": []
  }
 ],
 "metadata": {
  "kernelspec": {
   "display_name": "Python 3",
   "language": "python",
   "name": "python3"
  },
  "language_info": {
   "codemirror_mode": {
    "name": "ipython",
    "version": 3
   },
   "file_extension": ".py",
   "mimetype": "text/x-python",
   "name": "python",
   "nbconvert_exporter": "python",
   "pygments_lexer": "ipython3",
   "version": "3.7.1"
  }
 },
 "nbformat": 4,
 "nbformat_minor": 2
}
