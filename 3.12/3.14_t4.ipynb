{
 "cells": [
  {
   "cell_type": "code",
   "execution_count": 10,
   "metadata": {},
   "outputs": [
    {
     "name": "stdout",
     "output_type": "stream",
     "text": [
      "[[4, 18, 78], [8, 11, 81], [12, 4, 84]]\n",
      "rooster=4,hen=18,chick=78\n",
      "rooster=8,hen=11,chick=81\n",
      "rooster=12,hen=4,chick=84\n"
     ]
    }
   ],
   "source": [
    "charr = []\n",
    "for i in range(1,13):\n",
    "    for j in range (1,30):\n",
    "        if 5*i+3*j <= 99:\n",
    "            k = 100-(5*i+3*j)\n",
    "            if i+j+3*k==100 :\n",
    "                charr += [[i,j,3*k]]\n",
    "            else:\n",
    "                continue\n",
    "        else:\n",
    "            continue\n",
    "for m in charr:\n",
    "    print('rooster={0:d},hen={1:d},chick={2:d}'.format(m[0],m[1],m[2]))"
   ]
  },
  {
   "cell_type": "code",
   "execution_count": null,
   "metadata": {},
   "outputs": [],
   "source": []
  }
 ],
 "metadata": {
  "kernelspec": {
   "display_name": "Python 3",
   "language": "python",
   "name": "python3"
  },
  "language_info": {
   "codemirror_mode": {
    "name": "ipython",
    "version": 3
   },
   "file_extension": ".py",
   "mimetype": "text/x-python",
   "name": "python",
   "nbconvert_exporter": "python",
   "pygments_lexer": "ipython3",
   "version": "3.7.1"
  }
 },
 "nbformat": 4,
 "nbformat_minor": 2
}
