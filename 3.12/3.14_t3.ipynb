{
 "cells": [
  {
   "cell_type": "code",
   "execution_count": 4,
   "metadata": {},
   "outputs": [
    {
     "name": "stdin",
     "output_type": "stream",
     "text": [
      " 6.18 0 100\n"
     ]
    },
    {
     "name": "stdout",
     "output_type": "stream",
     "text": [
      "$100.0 is 618.0 yuan\n"
     ]
    }
   ],
   "source": [
    "ch,dire,y = input().split()\n",
    "ch = float(ch)\n",
    "if dire == '0':\n",
    "    y = float(y)\n",
    "    x = ch*y\n",
    "    print(\"${0:.1f} is {1:.1f} yuan\".format(y,x))\n",
    "elif dire == '1':\n",
    "    y = float(y)\n",
    "    x = y/ch\n",
    "    print('{0:.1f} yuan is ${1:.1f}'.format(y,x))\n",
    "else:\n",
    "    print('Incorrect Input')"
   ]
  },
  {
   "cell_type": "code",
   "execution_count": null,
   "metadata": {},
   "outputs": [],
   "source": []
  }
 ],
 "metadata": {
  "kernelspec": {
   "display_name": "Python 3",
   "language": "python",
   "name": "python3"
  },
  "language_info": {
   "codemirror_mode": {
    "name": "ipython",
    "version": 3
   },
   "file_extension": ".py",
   "mimetype": "text/x-python",
   "name": "python",
   "nbconvert_exporter": "python",
   "pygments_lexer": "ipython3",
   "version": "3.7.1"
  }
 },
 "nbformat": 4,
 "nbformat_minor": 2
}
