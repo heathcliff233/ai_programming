{
 "cells": [
  {
   "cell_type": "code",
   "execution_count": 9,
   "metadata": {},
   "outputs": [
    {
     "ename": "SyntaxError",
     "evalue": "unexpected EOF while parsing (<ipython-input-9-2917357d3903>, line 18)",
     "output_type": "error",
     "traceback": [
      "\u001b[0;36m  File \u001b[0;32m\"<ipython-input-9-2917357d3903>\"\u001b[0;36m, line \u001b[0;32m18\u001b[0m\n\u001b[0;31m    print(sorted(arr4)\u001b[0m\n\u001b[0m                      ^\u001b[0m\n\u001b[0;31mSyntaxError\u001b[0m\u001b[0;31m:\u001b[0m unexpected EOF while parsing\n"
     ]
    }
   ],
   "source": [
    "arr1 = [4,7,9,1,2,2,6,2,2,1,6,9,7,4,5,5,7,9,5,5,4]\n",
    "x = int(input())\n",
    "arr2 = []\n",
    "for i in range(1,11):\n",
    "    if i in arr1:\n",
    "        arr2.append(str(i))\n",
    "    \n",
    "print(arr2)\n",
    "arr3 = []\n",
    "for i in range(1,11):\n",
    "    if i in arr1 and i <= 5:\n",
    "        arr3 += [str(i)]\n",
    "print(arr3)\n",
    "arr4 = []\n",
    "for i in range(1,11):\n",
    "    if i not in arr1 and i > 5:\n",
    "        arr4 += [str(i)]\n",
    "print(sorted(arr4)"
   ]
  },
  {
   "cell_type": "code",
   "execution_count": null,
   "metadata": {},
   "outputs": [],
   "source": [
    "if x in arr2 :\n",
    "    print('Y')\n",
    "else :\n",
    "    print('N')"
   ]
  }
 ],
 "metadata": {
  "kernelspec": {
   "display_name": "Python 3",
   "language": "python",
   "name": "python3"
  },
  "language_info": {
   "codemirror_mode": {
    "name": "ipython",
    "version": 3
   },
   "file_extension": ".py",
   "mimetype": "text/x-python",
   "name": "python",
   "nbconvert_exporter": "python",
   "pygments_lexer": "ipython3",
   "version": "3.7.1"
  }
 },
 "nbformat": 4,
 "nbformat_minor": 2
}
