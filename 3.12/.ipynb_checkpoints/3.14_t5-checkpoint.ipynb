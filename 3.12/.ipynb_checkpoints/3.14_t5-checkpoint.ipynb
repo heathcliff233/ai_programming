{
 "cells": [
  {
   "cell_type": "code",
   "execution_count": 7,
   "metadata": {},
   "outputs": [
    {
     "data": {
      "text/plain": [
       "-0.5992644577643401"
      ]
     },
     "execution_count": 7,
     "metadata": {},
     "output_type": "execute_result"
    }
   ],
   "source": [
    "def f(x,i):\n",
    "    y = x\n",
    "    for j in range (2*i-2):\n",
    "        x *= y\n",
    "    x *= -pow(-1,i)\n",
    "    for k in range (1,2*i):\n",
    "        x/=k\n",
    "    return x"
   ]
  },
  {
   "cell_type": "code",
   "execution_count": 8,
   "metadata": {},
   "outputs": [
    {
     "name": "stdin",
     "output_type": "stream",
     "text": [
      " 3.1415926\n"
     ]
    },
    {
     "name": "stdout",
     "output_type": "stream",
     "text": [
      "0.0\n"
     ]
    }
   ],
   "source": [
    "t = float(input())\n",
    "i = 1\n",
    "sum = 0\n",
    "while(f(t,i)>10e-8 or f(t,i)<-10e-8):\n",
    "    sum+=f(t,i)\n",
    "    i += 1\n",
    "print('%.1f'%sum)"
   ]
  },
  {
   "cell_type": "code",
   "execution_count": null,
   "metadata": {},
   "outputs": [],
   "source": []
  }
 ],
 "metadata": {
  "kernelspec": {
   "display_name": "Python 3",
   "language": "python",
   "name": "python3"
  },
  "language_info": {
   "codemirror_mode": {
    "name": "ipython",
    "version": 3
   },
   "file_extension": ".py",
   "mimetype": "text/x-python",
   "name": "python",
   "nbconvert_exporter": "python",
   "pygments_lexer": "ipython3",
   "version": "3.7.1"
  }
 },
 "nbformat": 4,
 "nbformat_minor": 2
}
