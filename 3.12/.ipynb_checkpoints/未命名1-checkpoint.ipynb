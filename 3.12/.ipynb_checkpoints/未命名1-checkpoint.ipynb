{
 "cells": [
  {
   "cell_type": "code",
   "execution_count": 1,
   "metadata": {},
   "outputs": [
    {
     "name": "stdin",
     "output_type": "stream",
     "text": [
      " 4\n"
     ]
    },
    {
     "name": "stdout",
     "output_type": "stream",
     "text": [
      "['1', '2', '4', '5', '6', '7', '9']\n",
      "['1', '2', '4', '5']\n",
      "['10', '8']\n"
     ]
    }
   ],
   "source": [
    "arr1 = [4,7,9,1,2,2,6,2,2,1,6,9,7,4,5,5,7,9,5,5,4]\n",
    "x = int(input())\n",
    "arr2 = []\n",
    "for i in range(1,11):\n",
    "    if i in arr1:\n",
    "        arr2.append(str(i))\n",
    "    \n",
    "print(arr2)\n",
    "arr3 = []\n",
    "for i in range(1,11):\n",
    "    if i in arr1 and i <= 5:\n",
    "        arr3 += [str(i)]\n",
    "print(arr3)\n",
    "arr4 = []\n",
    "for i in range(1,11):\n",
    "    if i not in arr1 and i > 5:\n",
    "        arr4 += [str(i)]\n",
    "print(sorted(arr4))"
   ]
  },
  {
   "cell_type": "code",
   "execution_count": null,
   "metadata": {},
   "outputs": [],
   "source": [
    "if x in arr2 :\n",
    "    print('Y')\n",
    "else :\n",
    "    print('N')"
   ]
  }
 ],
 "metadata": {
  "kernelspec": {
   "display_name": "Python 3",
   "language": "python",
   "name": "python3"
  },
  "language_info": {
   "codemirror_mode": {
    "name": "ipython",
    "version": 3
   },
   "file_extension": ".py",
   "mimetype": "text/x-python",
   "name": "python",
   "nbconvert_exporter": "python",
   "pygments_lexer": "ipython3",
   "version": "3.7.1"
  }
 },
 "nbformat": 4,
 "nbformat_minor": 2
}
