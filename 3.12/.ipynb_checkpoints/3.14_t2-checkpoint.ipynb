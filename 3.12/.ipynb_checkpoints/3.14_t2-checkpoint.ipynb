{
 "cells": [
  {
   "cell_type": "code",
   "execution_count": 1,
   "metadata": {},
   "outputs": [],
   "source": [
    "arr1 = [4,7,9,1,2,2,6,2,2,1,6,9,7,4,5,5,7,9,5,5,4]"
   ]
  },
  {
   "cell_type": "code",
   "execution_count": 2,
   "metadata": {},
   "outputs": [],
   "source": [
    "arr2 = []"
   ]
  },
  {
   "cell_type": "code",
   "execution_count": 3,
   "metadata": {},
   "outputs": [
    {
     "name": "stdout",
     "output_type": "stream",
     "text": [
      "[1, 2, 4, 5, 6, 7, 9]\n"
     ]
    }
   ],
   "source": [
    "for i in range(1,11):\n",
    "    if i in arr1:\n",
    "        arr2 += [i]\n",
    "print(arr2)"
   ]
  },
  {
   "cell_type": "code",
   "execution_count": 4,
   "metadata": {},
   "outputs": [
    {
     "name": "stdout",
     "output_type": "stream",
     "text": [
      "[1, 2, 4, 5]\n"
     ]
    }
   ],
   "source": [
    "arr3 = []\n",
    "for i in range(1,11):\n",
    "    if i in arr1 and i <= 5:\n",
    "        arr3 += [i]\n",
    "print(arr3)"
   ]
  },
  {
   "cell_type": "code",
   "execution_count": 5,
   "metadata": {},
   "outputs": [
    {
     "name": "stdout",
     "output_type": "stream",
     "text": [
      "[8, 10]\n"
     ]
    }
   ],
   "source": [
    "arr4 = []\n",
    "for i in range(1,11):\n",
    "    if i not in arr1 and i > 5:\n",
    "        arr4 += [i]\n",
    "print(arr4)"
   ]
  },
  {
   "cell_type": "code",
   "execution_count": 6,
   "metadata": {},
   "outputs": [
    {
     "name": "stdin",
     "output_type": "stream",
     "text": [
      " 7\n"
     ]
    },
    {
     "name": "stdout",
     "output_type": "stream",
     "text": [
      "Y\n"
     ]
    }
   ],
   "source": [
    "x = int(input())\n",
    "if x in arr2 :\n",
    "    print('Y')\n",
    "else :\n",
    "    print('N')"
   ]
  },
  {
   "cell_type": "code",
   "execution_count": null,
   "metadata": {},
   "outputs": [],
   "source": [
    "arr1 = [4,7,9,1,2,2,6,2,2,1,6,9,7,4,5,5,7,9,5,5,4]\n",
    "x = int(input())\n",
    "arr2 = []\n",
    "for i in range(1,11):\n",
    "    if i in arr1:\n",
    "        arr2.append(str(i))\n",
    "    \n",
    "print(arr2)\n",
    "arr3 = []\n",
    "for i in range(1,11):\n",
    "    if i in arr1 and i <= 5:\n",
    "        arr3 += [str(i)]\n",
    "print(arr3)\n",
    "arr4 = []\n",
    "for i in range(1,11):\n",
    "    if i not in arr1 and i > 5:\n",
    "        arr4 += [str(i)]\n",
    "print(sorted(arr4))\n",
    "if str(x) in arr2 :\n",
    "    print('Y')\n",
    "else :\n",
    "    print('N')"
   ]
  }
 ],
 "metadata": {
  "kernelspec": {
   "display_name": "Python 3",
   "language": "python",
   "name": "python3"
  },
  "language_info": {
   "codemirror_mode": {
    "name": "ipython",
    "version": 3
   },
   "file_extension": ".py",
   "mimetype": "text/x-python",
   "name": "python",
   "nbconvert_exporter": "python",
   "pygments_lexer": "ipython3",
   "version": "3.7.1"
  }
 },
 "nbformat": 4,
 "nbformat_minor": 2
}
