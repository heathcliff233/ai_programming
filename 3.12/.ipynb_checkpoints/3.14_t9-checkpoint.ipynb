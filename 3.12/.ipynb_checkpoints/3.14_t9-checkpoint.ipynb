{
 "cells": [
  {
   "cell_type": "code",
   "execution_count": 11,
   "metadata": {},
   "outputs": [
    {
     "name": "stdin",
     "output_type": "stream",
     "text": [
      " AAXXAXXAAA\n"
     ]
    },
    {
     "name": "stdout",
     "output_type": "stream",
     "text": [
      "10\n"
     ]
    }
   ],
   "source": [
    "str1 = input()\n",
    "i=0\n",
    "chart = []\n",
    "while i <= len(str1)-1:\n",
    "    if str1[i] == 'X' :\n",
    "        i += 1\n",
    "    else:\n",
    "        x = 1\n",
    "        chart += [x]\n",
    "        if i < len(str1)-1:\n",
    "            i += 1\n",
    "            while i <= len(str1)-1 and str1[i] == 'A' :\n",
    "                x+=1\n",
    "                i+=1\n",
    "                chart += [x]\n",
    "sum = 0\n",
    "for i in chart :\n",
    "    sum += i\n",
    "print(sum)"
   ]
  },
  {
   "cell_type": "code",
   "execution_count": 9,
   "metadata": {},
   "outputs": [
    {
     "name": "stdout",
     "output_type": "stream",
     "text": [
      "[2, 1, 3]\n"
     ]
    }
   ],
   "source": [
    "print(chart)"
   ]
  },
  {
   "cell_type": "code",
   "execution_count": null,
   "metadata": {},
   "outputs": [],
   "source": []
  }
 ],
 "metadata": {
  "kernelspec": {
   "display_name": "Python 3",
   "language": "python",
   "name": "python3"
  },
  "language_info": {
   "codemirror_mode": {
    "name": "ipython",
    "version": 3
   },
   "file_extension": ".py",
   "mimetype": "text/x-python",
   "name": "python",
   "nbconvert_exporter": "python",
   "pygments_lexer": "ipython3",
   "version": "3.7.1"
  }
 },
 "nbformat": 4,
 "nbformat_minor": 2
}
