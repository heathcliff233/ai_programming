{
 "cells": [
  {
   "cell_type": "code",
   "execution_count": 5,
   "metadata": {},
   "outputs": [
    {
     "name": "stdin",
     "output_type": "stream",
     "text": [
      " 7\n"
     ]
    },
    {
     "name": "stdout",
     "output_type": "stream",
     "text": [
      "1,2,3,4,5,6,8,9,10,11\n",
      "12,13,15,16,18,19,20,22,23,24\n",
      "25,26,29,30,31,32,33,34,36,38\n",
      "39,40,41,43,44,45,46,48,50,51\n",
      "52,53,54,55,58,59,60,61,62,64\n",
      "65,66,68,69,80,81,82,83,85,86\n",
      "88,89,90,92,93,94,95,96,99,100\n",
      "\n"
     ]
    }
   ],
   "source": [
    "x = int(input())\n",
    "n = 0\n",
    "str1 = ''\n",
    "for i in range(1,101):\n",
    "    if i%x != 0 and str(i).find(str(x))==-1 :\n",
    "        if str1 == '':\n",
    "            str1 += str(i)\n",
    "            n += 1\n",
    "        else:\n",
    "            str1 = str1 + ','+str(i)\n",
    "            n += 1\n",
    "            if n%10==0 :\n",
    "                print(str1)\n",
    "                str1 = ''\n",
    "print(str1)"
   ]
  },
  {
   "cell_type": "code",
   "execution_count": null,
   "metadata": {},
   "outputs": [],
   "source": []
  }
 ],
 "metadata": {
  "kernelspec": {
   "display_name": "Python 3",
   "language": "python",
   "name": "python3"
  },
  "language_info": {
   "codemirror_mode": {
    "name": "ipython",
    "version": 3
   },
   "file_extension": ".py",
   "mimetype": "text/x-python",
   "name": "python",
   "nbconvert_exporter": "python",
   "pygments_lexer": "ipython3",
   "version": "3.7.1"
  }
 },
 "nbformat": 4,
 "nbformat_minor": 2
}
