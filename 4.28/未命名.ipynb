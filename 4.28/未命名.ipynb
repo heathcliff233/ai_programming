{
 "cells": [
  {
   "cell_type": "markdown",
   "metadata": {},
   "source": [
    "## 数值计算"
   ]
  },
  {
   "cell_type": "markdown",
   "metadata": {},
   "source": [
    "### 数值计算与优化\n",
    "#### 方程求根与最小二乘法"
   ]
  },
  {
   "cell_type": "markdown",
   "metadata": {},
   "source": [
    "> 线性方程组求解"
   ]
  },
  {
   "cell_type": "code",
   "execution_count": 4,
   "metadata": {},
   "outputs": [
    {
     "name": "stdout",
     "output_type": "stream",
     "text": [
      "[[3.]\n",
      " [2.]\n",
      " [1.]]\n",
      "True\n"
     ]
    }
   ],
   "source": [
    "import numpy as np\n",
    "a = np.matrix([[2,-3,1],[3,2,0],[1,7,-1]])\n",
    "b = np.matrix([1,13,16]).T\n",
    "x = np.linalg.solve(a,b)\n",
    "print(x)\n",
    "print(np.allclose(np.dot(a,x),b))"
   ]
  },
  {
   "cell_type": "markdown",
   "metadata": {},
   "source": [
    "> 超定方程组"
   ]
  },
  {
   "cell_type": "code",
   "execution_count": null,
   "metadata": {},
   "outputs": [],
   "source": []
  },
  {
   "cell_type": "markdown",
   "metadata": {},
   "source": [
    "> 最小二乘法"
   ]
  },
  {
   "cell_type": "code",
   "execution_count": 12,
   "metadata": {},
   "outputs": [
    {
     "name": "stdout",
     "output_type": "stream",
     "text": [
      "(array([3.5, 1.4]), array([4.2]), 2, array([5.77937881, 0.77380911]))\n"
     ]
    }
   ],
   "source": [
    "import scipy\n",
    "X = np.array([[1,1],[1,2],[1,3],[1,4]])\n",
    "Y = np.array([6,5,7,10])\n",
    "r = np.linalg.lstsq(X,Y,rcond=None)\n",
    "print(r)"
   ]
  },
  {
   "cell_type": "code",
   "execution_count": null,
   "metadata": {},
   "outputs": [],
   "source": []
  },
  {
   "cell_type": "code",
   "execution_count": 18,
   "metadata": {},
   "outputs": [
    {
     "data": {
      "image/png": "[encoded data removed]",
      "text/plain": [
       "<Figure size 432x288 with 1 Axes>"
      ]
     },
     "metadata": {
      "needs_background": "light"
     },
     "output_type": "display_data"
    }
   ],
   "source": [
    "%matplotlib inline\n",
    "import numpy as np\n",
    "from matplotlib import pyplot as plt\n",
    "from scipy.optimize import minimize, basinhopping #1.牛顿迭代\n",
    "def f(x):\n",
    "      #return x**2+1\n",
    "      return x**2+20*np.sin(x)+1\n",
    "x = np.linspace(-10, 10, 1000)\n",
    "x0 = 5\n",
    "#x_min = minimize(f, x0).x\n",
    "x_min = basinhopping(f, x0, stepsize = 3).x\n",
    "plt.plot(x, f(x))\n",
    "plt.scatter(x0, f(x0), marker='o')\n",
    "plt.scatter(x_min, f(x_min), marker='D')\n",
    "plt.show()"
   ]
  },
  {
   "cell_type": "markdown",
   "metadata": {},
   "source": [
    "### 梯度下降法"
   ]
  },
  {
   "cell_type": "code",
   "execution_count": null,
   "metadata": {},
   "outputs": [],
   "source": []
  }
 ],
 "metadata": {
  "kernelspec": {
   "display_name": "Python 3",
   "language": "python",
   "name": "python3"
  },
  "language_info": {
   "codemirror_mode": {
    "name": "ipython",
    "version": 3
   },
   "file_extension": ".py",
   "mimetype": "text/x-python",
   "name": "python",
   "nbconvert_exporter": "python",
   "pygments_lexer": "ipython3",
   "version": "3.7.1"
  }
 },
 "nbformat": 4,
 "nbformat_minor": 2
}
