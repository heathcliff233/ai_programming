{
 "cells": [
  {
   "cell_type": "markdown",
   "metadata": {},
   "source": [
    "### 文件基本操作"
   ]
  },
  {
   "cell_type": "code",
   "execution_count": 8,
   "metadata": {},
   "outputs": [],
   "source": [
    "try :\n",
    "    with open('pi.txt') as p :\n",
    "        shit = p.read()\n",
    "except IOError as err:\n",
    "    print(err)"
   ]
  },
  {
   "cell_type": "code",
   "execution_count": 9,
   "metadata": {},
   "outputs": [
    {
     "data": {
      "text/plain": [
       "True"
      ]
     },
     "execution_count": 9,
     "metadata": {},
     "output_type": "execute_result"
    }
   ],
   "source": [
    "'0301' in shit"
   ]
  },
  {
   "cell_type": "markdown",
   "metadata": {},
   "source": [
    "#### 按行读取"
   ]
  },
  {
   "cell_type": "code",
   "execution_count": 13,
   "metadata": {},
   "outputs": [
    {
     "name": "stdout",
     "output_type": "stream",
     "text": [
      "123-321\n",
      "456-654\n",
      "789-987\n"
     ]
    }
   ],
   "source": [
    "with open('huiwen.txt') as f :\n",
    "    lines = f.readlines()\n",
    "    for i in range(len(lines)-1):\n",
    "        m = lines[i][:-1]\n",
    "        print('{0}-{1}'.format(m,m[::-1]))\n",
    "    else :\n",
    "        print(lines[-1]+'-'+lines[-1][::-1])"
   ]
  },
  {
   "cell_type": "code",
   "execution_count": null,
   "metadata": {},
   "outputs": [],
   "source": [
    "lst=[]\n",
    "for line in open('data.txt'):\n",
    "    linerev = line[::-1]\n",
    "    lst.append(line.strip()+)\n"
   ]
  },
  {
   "cell_type": "markdown",
   "metadata": {},
   "source": [
    "#### 重写"
   ]
  },
  {
   "cell_type": "code",
   "execution_count": null,
   "metadata": {},
   "outputs": [],
   "source": [
    "with open('companies.txt', 'r+') as f: \n",
    "    lines = f.readlines()\n",
    "    for i in range(len(lines)):\n",
    "        lines[i] = str(i+1) + ' ' + lines[i] \n",
    "        f.seek(0,0)\n",
    "        f.writelines(lines)"
   ]
  },
  {
   "cell_type": "markdown",
   "metadata": {},
   "source": [
    "#### 插入行"
   ]
  },
  {
   "cell_type": "code",
   "execution_count": null,
   "metadata": {},
   "outputs": [],
   "source": [
    "import fileinput\n",
    "for line in fileinput.FileInput(file_path,inplace=1):\n",
    "    if \"TEXT_TO_SEARCH\" in line:\n",
    "        line=line.replace(line,line+\"NEW_TEXT\")\n",
    "    print line,\n"
   ]
  },
  {
   "cell_type": "markdown",
   "metadata": {},
   "source": [
    "#### 文件批量操作"
   ]
  },
  {
   "cell_type": "code",
   "execution_count": 20,
   "metadata": {},
   "outputs": [
    {
     "name": "stdout",
     "output_type": "stream",
     "text": [
      "ceshi.txt has 3 lines.\n",
      "huiwen.txt has 3 lines.\n"
     ]
    }
   ],
   "source": [
    "def count_lines(file):\n",
    "    with open(file,'r+') as s :\n",
    "        lines = s.readlines()\n",
    "    print(file+' has '+str(len(lines))+' lines.')\n",
    "filelist = ['ceshi.txt','huiwen.txt']\n",
    "for file in filelist:\n",
    "    count_lines(file)"
   ]
  },
  {
   "cell_type": "code",
   "execution_count": 34,
   "metadata": {},
   "outputs": [
    {
     "name": "stdout",
     "output_type": "stream",
     "text": [
      "xyz/gp.txt has 2 lines.\n",
      "xyz/dd.txt has 2 lines.\n"
     ]
    }
   ],
   "source": [
    "import os\n",
    "fileL = os.listdir('xyz')  \n",
    "for file in fileL :\n",
    "    path = os.path.join('xyz',file)\n",
    "    if path.endswith('txt'):\n",
    "        with open(path,'r+') as s :\n",
    "            lines = s.readlines()\n",
    "        print(path+' has '+str(len(lines))+' lines.')        "
   ]
  },
  {
   "cell_type": "code",
   "execution_count": 36,
   "metadata": {},
   "outputs": [
    {
     "name": "stdout",
     "output_type": "stream",
     "text": [
      "ahha\n"
     ]
    }
   ],
   "source": [
    "if os.path.exists('xyz'):\n",
    "    print('ahha')"
   ]
  },
  {
   "cell_type": "code",
   "execution_count": 40,
   "metadata": {},
   "outputs": [],
   "source": [
    "import shutil\n",
    "if os.path.exists('xyz'):\n",
    "    shutil.rmtree('peppapig')"
   ]
  },
  {
   "cell_type": "code",
   "execution_count": 42,
   "metadata": {},
   "outputs": [
    {
     "ename": "OSError",
     "evalue": "[Errno 66] Directory not empty: 'xyz'",
     "output_type": "error",
     "traceback": [
      "\u001b[0;31m---------------------------------------------------------------------------\u001b[0m",
      "\u001b[0;31mOSError\u001b[0m                                   Traceback (most recent call last)",
      "\u001b[0;32m<ipython-input-42-24bc45def489>\u001b[0m in \u001b[0;36m<module>\u001b[0;34m\u001b[0m\n\u001b[1;32m      1\u001b[0m \u001b[0;32mif\u001b[0m \u001b[0mos\u001b[0m\u001b[0;34m.\u001b[0m\u001b[0mpath\u001b[0m\u001b[0;34m.\u001b[0m\u001b[0mexists\u001b[0m\u001b[0;34m(\u001b[0m\u001b[0;34m'xyz'\u001b[0m\u001b[0;34m)\u001b[0m\u001b[0;34m:\u001b[0m\u001b[0;34m\u001b[0m\u001b[0;34m\u001b[0m\u001b[0m\n\u001b[0;32m----> 2\u001b[0;31m     \u001b[0mos\u001b[0m\u001b[0;34m.\u001b[0m\u001b[0mrmdir\u001b[0m\u001b[0;34m(\u001b[0m\u001b[0;34m'xyz'\u001b[0m\u001b[0;34m)\u001b[0m\u001b[0;34m\u001b[0m\u001b[0;34m\u001b[0m\u001b[0m\n\u001b[0m",
      "\u001b[0;31mOSError\u001b[0m: [Errno 66] Directory not empty: 'xyz'"
     ]
    }
   ],
   "source": [
    "if os.path.exists('xyz'):\n",
    "    os.rmdir('xyz')"
   ]
  },
  {
   "cell_type": "code",
   "execution_count": null,
   "metadata": {},
   "outputs": [],
   "source": []
  }
 ],
 "metadata": {
  "kernelspec": {
   "display_name": "Python 3",
   "language": "python",
   "name": "python3"
  },
  "language_info": {
   "codemirror_mode": {
    "name": "ipython",
    "version": 3
   },
   "file_extension": ".py",
   "mimetype": "text/x-python",
   "name": "python",
   "nbconvert_exporter": "python",
   "pygments_lexer": "ipython3",
   "version": "3.7.1"
  }
 },
 "nbformat": 4,
 "nbformat_minor": 2
}
