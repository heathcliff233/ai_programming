{
 "cells": [
  {
   "cell_type": "code",
   "execution_count": 1,
   "metadata": {},
   "outputs": [],
   "source": [
    "import requests\n",
    "a = requests.get('https://api.douban.com/v2/movie/subject/1291546')"
   ]
  },
  {
   "cell_type": "code",
   "execution_count": null,
   "metadata": {},
   "outputs": [],
   "source": [
    "m = a.json()\n",
    "m"
   ]
  },
  {
   "cell_type": "code",
   "execution_count": 2,
   "metadata": {},
   "outputs": [],
   "source": [
    "import json\n",
    "p = json.loads(a.text)"
   ]
  },
  {
   "cell_type": "code",
   "execution_count": 3,
   "metadata": {},
   "outputs": [
    {
     "data": {
      "text/plain": [
       "'霸王别姬'"
      ]
     },
     "execution_count": 3,
     "metadata": {},
     "output_type": "execute_result"
    }
   ],
   "source": [
    "p['title']"
   ]
  },
  {
   "cell_type": "code",
   "execution_count": 4,
   "metadata": {},
   "outputs": [
    {
     "data": {
      "text/plain": [
       "9.6"
      ]
     },
     "execution_count": 4,
     "metadata": {},
     "output_type": "execute_result"
    }
   ],
   "source": [
    "p['rating']['average']"
   ]
  },
  {
   "cell_type": "code",
   "execution_count": 5,
   "metadata": {},
   "outputs": [
    {
     "data": {
      "text/plain": [
       "{'rating': {'max': 10, 'average': 9.6, 'stars': '50', 'min': 0},\n",
       " 'reviews_count': 6334,\n",
       " 'wish_count': 185505,\n",
       " 'douban_site': '',\n",
       " 'year': '1993',\n",
       " 'images': {'small': 'https://img3.doubanio.com/view/photo/s_ratio_poster/public/p1910813120.jpg',\n",
       "  'large': 'https://img3.doubanio.com/view/photo/s_ratio_poster/public/p1910813120.jpg',\n",
       "  'medium': 'https://img3.doubanio.com/view/photo/s_ratio_poster/public/p1910813120.jpg'},\n",
       " 'alt': 'https://movie.douban.com/subject/1291546/',\n",
       " 'id': '1291546',\n",
       " 'mobile_url': 'https://movie.douban.com/subject/1291546/mobile',\n",
       " 'title': '霸王别姬',\n",
       " 'do_count': None,\n",
       " 'share_url': 'https://m.douban.com/movie/subject/1291546',\n",
       " 'seasons_count': None,\n",
       " 'schedule_url': '',\n",
       " 'episodes_count': None,\n",
       " 'countries': ['中国大陆', '香港'],\n",
       " 'genres': ['剧情', '爱情', '同性'],\n",
       " 'collect_count': 1440391,\n",
       " 'casts': [{'alt': 'https://movie.douban.com/celebrity/1003494/',\n",
       "   'avatars': {'small': 'https://img1.doubanio.com/view/celebrity/s_ratio_celebrity/public/p67.jpg',\n",
       "    'large': 'https://img1.doubanio.com/view/celebrity/s_ratio_celebrity/public/p67.jpg',\n",
       "    'medium': 'https://img1.doubanio.com/view/celebrity/s_ratio_celebrity/public/p67.jpg'},\n",
       "   'name': '张国荣',\n",
       "   'id': '1003494'},\n",
       "  {'alt': 'https://movie.douban.com/celebrity/1050265/',\n",
       "   'avatars': {'small': 'https://img3.doubanio.com/view/celebrity/s_ratio_celebrity/public/p46345.jpg',\n",
       "    'large': 'https://img3.doubanio.com/view/celebrity/s_ratio_celebrity/public/p46345.jpg',\n",
       "    'medium': 'https://img3.doubanio.com/view/celebrity/s_ratio_celebrity/public/p46345.jpg'},\n",
       "   'name': '张丰毅',\n",
       "   'id': '1050265'},\n",
       "  {'alt': 'https://movie.douban.com/celebrity/1035641/',\n",
       "   'avatars': {'small': 'https://img1.doubanio.com/view/celebrity/s_ratio_celebrity/public/p1399268395.47.jpg',\n",
       "    'large': 'https://img1.doubanio.com/view/celebrity/s_ratio_celebrity/public/p1399268395.47.jpg',\n",
       "    'medium': 'https://img1.doubanio.com/view/celebrity/s_ratio_celebrity/public/p1399268395.47.jpg'},\n",
       "   'name': '巩俐',\n",
       "   'id': '1035641'},\n",
       "  {'alt': 'https://movie.douban.com/celebrity/1000905/',\n",
       "   'avatars': {'small': 'https://img3.doubanio.com/view/celebrity/s_ratio_celebrity/public/p46.jpg',\n",
       "    'large': 'https://img3.doubanio.com/view/celebrity/s_ratio_celebrity/public/p46.jpg',\n",
       "    'medium': 'https://img3.doubanio.com/view/celebrity/s_ratio_celebrity/public/p46.jpg'},\n",
       "   'name': '葛优',\n",
       "   'id': '1000905'}],\n",
       " 'current_season': None,\n",
       " 'original_title': '霸王别姬',\n",
       " 'summary': '段小楼（张丰毅）与程蝶衣（张国荣）是一对打小一起长大的师兄弟，两人一个演生，一个饰旦，一向配合天衣无缝，尤其一出《霸王别姬》，更是誉满京城，为此，两人约定合演一辈子《霸王别姬》。但两人对戏剧与人生关系的理解有本质不同，段小楼深知戏非人生，程蝶衣则是人戏不分。\\n段小楼在认为该成家立业之时迎娶了名妓菊仙（巩俐），致使程蝶衣认定菊仙是可耻的第三者，使段小楼做了叛徒，自此，三人围绕一出《霸王别姬》生出的爱恨情仇战开始随着时代风云的变迁不断升级，终酿成悲剧。©豆瓣',\n",
       " 'subtype': 'movie',\n",
       " 'directors': [{'alt': 'https://movie.douban.com/celebrity/1023040/',\n",
       "   'avatars': {'small': 'https://img3.doubanio.com/view/celebrity/s_ratio_celebrity/public/p1451727734.81.jpg',\n",
       "    'large': 'https://img3.doubanio.com/view/celebrity/s_ratio_celebrity/public/p1451727734.81.jpg',\n",
       "    'medium': 'https://img3.doubanio.com/view/celebrity/s_ratio_celebrity/public/p1451727734.81.jpg'},\n",
       "   'name': '陈凯歌',\n",
       "   'id': '1023040'}],\n",
       " 'comments_count': 221042,\n",
       " 'ratings_count': 1036285,\n",
       " 'aka': ['再见，我的妾', 'Farewell My Concubine']}"
      ]
     },
     "execution_count": 5,
     "metadata": {},
     "output_type": "execute_result"
    }
   ],
   "source": [
    "p"
   ]
  },
  {
   "cell_type": "code",
   "execution_count": null,
   "metadata": {},
   "outputs": [],
   "source": []
  }
 ],
 "metadata": {
  "kernelspec": {
   "display_name": "Python 3",
   "language": "python",
   "name": "python3"
  },
  "language_info": {
   "codemirror_mode": {
    "name": "ipython",
    "version": 3
   },
   "file_extension": ".py",
   "mimetype": "text/x-python",
   "name": "python",
   "nbconvert_exporter": "python",
   "pygments_lexer": "ipython3",
   "version": "3.7.1"
  }
 },
 "nbformat": 4,
 "nbformat_minor": 2
}
