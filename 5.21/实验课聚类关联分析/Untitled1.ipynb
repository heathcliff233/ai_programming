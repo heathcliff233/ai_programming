{
 "cells": [
  {
   "cell_type": "code",
   "execution_count": 1,
   "metadata": {},
   "outputs": [],
   "source": [
    "import pandas as pd\n",
    "import numpy as np\n",
    "dt = pd.read_csv('car.data.csv')"
   ]
  },
  {
   "cell_type": "code",
   "execution_count": 33,
   "metadata": {},
   "outputs": [
    {
     "data": {
      "text/plain": [
       "<bound method NDFrame.head of      buying  paint  doors persons lug_boot safety class \n",
       "0     vhigh  vhigh      2       2    small    low  unacc\n",
       "1     vhigh  vhigh      2       2    small    med  unacc\n",
       "2     vhigh  vhigh      2       2    small   high  unacc\n",
       "3     vhigh  vhigh      2       2      med    low  unacc\n",
       "4     vhigh  vhigh      2       2      med    med  unacc\n",
       "5     vhigh  vhigh      2       2      med   high  unacc\n",
       "6     vhigh  vhigh      2       2      big    low  unacc\n",
       "7     vhigh  vhigh      2       2      big    med  unacc\n",
       "8     vhigh  vhigh      2       2      big   high  unacc\n",
       "9     vhigh  vhigh      2       4    small    low  unacc\n",
       "10    vhigh  vhigh      2       4    small    med  unacc\n",
       "11    vhigh  vhigh      2       4    small   high  unacc\n",
       "12    vhigh  vhigh      2       4      med    low  unacc\n",
       "13    vhigh  vhigh      2       4      med    med  unacc\n",
       "14    vhigh  vhigh      2       4      med   high  unacc\n",
       "15    vhigh  vhigh      2       4      big    low  unacc\n",
       "16    vhigh  vhigh      2       4      big    med  unacc\n",
       "17    vhigh  vhigh      2       4      big   high  unacc\n",
       "18    vhigh  vhigh      2    more    small    low  unacc\n",
       "19    vhigh  vhigh      2    more    small    med  unacc\n",
       "20    vhigh  vhigh      2    more    small   high  unacc\n",
       "21    vhigh  vhigh      2    more      med    low  unacc\n",
       "22    vhigh  vhigh      2    more      med    med  unacc\n",
       "23    vhigh  vhigh      2    more      med   high  unacc\n",
       "24    vhigh  vhigh      2    more      big    low  unacc\n",
       "25    vhigh  vhigh      2    more      big    med  unacc\n",
       "26    vhigh  vhigh      2    more      big   high  unacc\n",
       "27    vhigh  vhigh      3       2    small    low  unacc\n",
       "28    vhigh  vhigh      3       2    small    med  unacc\n",
       "29    vhigh  vhigh      3       2    small   high  unacc\n",
       "...     ...    ...    ...     ...      ...    ...    ...\n",
       "1698    low    low      4    more      big    low  unacc\n",
       "1699    low    low      4    more      big    med   good\n",
       "1700    low    low      4    more      big   high  vgood\n",
       "1701    low    low  5more       2    small    low  unacc\n",
       "1702    low    low  5more       2    small    med  unacc\n",
       "1703    low    low  5more       2    small   high  unacc\n",
       "1704    low    low  5more       2      med    low  unacc\n",
       "1705    low    low  5more       2      med    med  unacc\n",
       "1706    low    low  5more       2      med   high  unacc\n",
       "1707    low    low  5more       2      big    low  unacc\n",
       "1708    low    low  5more       2      big    med  unacc\n",
       "1709    low    low  5more       2      big   high  unacc\n",
       "1710    low    low  5more       4    small    low  unacc\n",
       "1711    low    low  5more       4    small    med    acc\n",
       "1712    low    low  5more       4    small   high   good\n",
       "1713    low    low  5more       4      med    low  unacc\n",
       "1714    low    low  5more       4      med    med   good\n",
       "1715    low    low  5more       4      med   high  vgood\n",
       "1716    low    low  5more       4      big    low  unacc\n",
       "1717    low    low  5more       4      big    med   good\n",
       "1718    low    low  5more       4      big   high  vgood\n",
       "1719    low    low  5more    more    small    low  unacc\n",
       "1720    low    low  5more    more    small    med    acc\n",
       "1721    low    low  5more    more    small   high   good\n",
       "1722    low    low  5more    more      med    low  unacc\n",
       "1723    low    low  5more    more      med    med   good\n",
       "1724    low    low  5more    more      med   high  vgood\n",
       "1725    low    low  5more    more      big    low  unacc\n",
       "1726    low    low  5more    more      big    med   good\n",
       "1727    low    low  5more    more      big   high  vgood\n",
       "\n",
       "[1728 rows x 7 columns]>"
      ]
     },
     "execution_count": 33,
     "metadata": {},
     "output_type": "execute_result"
    }
   ],
   "source": [
    "dt.head"
   ]
  },
  {
   "cell_type": "code",
   "execution_count": 34,
   "metadata": {},
   "outputs": [],
   "source": [
    "ds = dt[dt['class ']=='unacc']"
   ]
  },
  {
   "cell_type": "code",
   "execution_count": 48,
   "metadata": {},
   "outputs": [
    {
     "data": {
      "text/plain": [
       "1210"
      ]
     },
     "execution_count": 48,
     "metadata": {},
     "output_type": "execute_result"
    }
   ],
   "source": [
    "ds.shape[0]"
   ]
  },
  {
   "cell_type": "code",
   "execution_count": 35,
   "metadata": {},
   "outputs": [],
   "source": [
    "a,b,c,d = ds.groupby('buying')"
   ]
  },
  {
   "cell_type": "code",
   "execution_count": 59,
   "metadata": {},
   "outputs": [
    {
     "name": "stdout",
     "output_type": "stream",
     "text": [
      "high 324 low 258 med 268 vhigh 360\n"
     ]
    }
   ],
   "source": [
    "a,b,c,d = ds.groupby('buying')\n",
    "print(a[0],a[1].shape[0],b[0],b[1].shape[0],c[0],c[1].shape[0],d[0],d[1].shape[0])"
   ]
  },
  {
   "cell_type": "code",
   "execution_count": 60,
   "metadata": {},
   "outputs": [
    {
     "data": {
      "text/plain": [
       "0.8333333333333334"
      ]
     },
     "execution_count": 60,
     "metadata": {},
     "output_type": "execute_result"
    }
   ],
   "source": [
    "d[1].shape[0]/dt[dt['buying']=='vhigh'].shape[0]"
   ]
  },
  {
   "cell_type": "code",
   "execution_count": 61,
   "metadata": {},
   "outputs": [
    {
     "data": {
      "text/plain": [
       "0.75"
      ]
     },
     "execution_count": 61,
     "metadata": {},
     "output_type": "execute_result"
    }
   ],
   "source": [
    "a[1].shape[0]/dt[dt['buying']=='high'].shape[0]"
   ]
  },
  {
   "cell_type": "code",
   "execution_count": 62,
   "metadata": {},
   "outputs": [
    {
     "name": "stdout",
     "output_type": "stream",
     "text": [
      "high 314 low 268 med 268 vhigh 360\n"
     ]
    }
   ],
   "source": [
    "a,b,c,d = ds.groupby('paint')\n",
    "print(a[0],a[1].shape[0],b[0],b[1].shape[0],c[0],c[1].shape[0],d[0],d[1].shape[0])"
   ]
  },
  {
   "cell_type": "code",
   "execution_count": 63,
   "metadata": {},
   "outputs": [
    {
     "data": {
      "text/plain": [
       "0.7268518518518519"
      ]
     },
     "execution_count": 63,
     "metadata": {},
     "output_type": "execute_result"
    }
   ],
   "source": [
    "a[1].shape[0]/dt[dt['paint']=='high'].shape[0]"
   ]
  },
  {
   "cell_type": "code",
   "execution_count": 64,
   "metadata": {},
   "outputs": [
    {
     "data": {
      "text/plain": [
       "0.8333333333333334"
      ]
     },
     "execution_count": 64,
     "metadata": {},
     "output_type": "execute_result"
    }
   ],
   "source": [
    "d[1].shape[0]/dt[dt['paint']=='vhigh'].shape[0]"
   ]
  },
  {
   "cell_type": "code",
   "execution_count": 65,
   "metadata": {},
   "outputs": [
    {
     "name": "stdout",
     "output_type": "stream",
     "text": [
      "2 326 3 300 4 292 5more 292\n"
     ]
    }
   ],
   "source": [
    "a,b,c,d = ds.groupby('doors')\n",
    "print(a[0],a[1].shape[0],b[0],b[1].shape[0],c[0],c[1].shape[0],d[0],d[1].shape[0])"
   ]
  },
  {
   "cell_type": "code",
   "execution_count": 66,
   "metadata": {},
   "outputs": [
    {
     "name": "stdout",
     "output_type": "stream",
     "text": [
      "2 576 4 312 more 322\n"
     ]
    }
   ],
   "source": [
    "a,b,c = ds.groupby('persons')\n",
    "print(a[0],a[1].shape[0],b[0],b[1].shape[0],c[0],c[1].shape[0])"
   ]
  },
  {
   "cell_type": "code",
   "execution_count": 67,
   "metadata": {},
   "outputs": [
    {
     "data": {
      "text/plain": [
       "1.0"
      ]
     },
     "execution_count": 67,
     "metadata": {},
     "output_type": "execute_result"
    }
   ],
   "source": [
    "a[1].shape[0]/dt[dt['persons']=='more'].shape[0]"
   ]
  },
  {
   "cell_type": "code",
   "execution_count": 68,
   "metadata": {},
   "outputs": [
    {
     "name": "stdout",
     "output_type": "stream",
     "text": [
      "big 368 med 392 small 450\n"
     ]
    }
   ],
   "source": [
    "a,b,c = ds.groupby('lug_boot')\n",
    "print(a[0],a[1].shape[0],b[0],b[1].shape[0],c[0],c[1].shape[0])"
   ]
  },
  {
   "cell_type": "code",
   "execution_count": 69,
   "metadata": {},
   "outputs": [
    {
     "data": {
      "text/plain": [
       "0.78125"
      ]
     },
     "execution_count": 69,
     "metadata": {},
     "output_type": "execute_result"
    }
   ],
   "source": [
    "c[1].shape[0]/dt[dt['lug_boot']=='small'].shape[0]"
   ]
  },
  {
   "cell_type": "code",
   "execution_count": 57,
   "metadata": {},
   "outputs": [
    {
     "name": "stdout",
     "output_type": "stream",
     "text": [
      "high 277 low 576 med 357\n"
     ]
    }
   ],
   "source": [
    "a,b,c = ds.groupby('safety')\n",
    "print(a[0],a[1].shape[0],b[0],b[1].shape[0],c[0],c[1].shape[0])"
   ]
  },
  {
   "cell_type": "code",
   "execution_count": 108,
   "metadata": {},
   "outputs": [],
   "source": [
    "dt = dt.replace('unacc',1)\n",
    "dt = dt.replace('acc',2)\n",
    "dt = dt.replace('good',3)\n",
    "dt = dt.replace('vgood',4)\n",
    "dt = dt.replace('low',1)\n",
    "dt = dt.replace('med',2)\n",
    "dt = dt.replace('high',3)\n",
    "dt = dt.replace('vhigh',4)\n",
    "dt = dt.replace('5more',5)\n",
    "dt = dt.replace('more',5)\n",
    "dt = dt.replace('big',3)\n",
    "dt = dt.replace('small',1)\n",
    "dt = dt.replace('2',2)\n",
    "dt = dt.replace('3',3)\n",
    "dt = dt.replace('4',4)"
   ]
  },
  {
   "cell_type": "code",
   "execution_count": 109,
   "metadata": {},
   "outputs": [
    {
     "data": {
      "text/html": [
       "<div>\n",
       "<style scoped>\n",
       "    .dataframe tbody tr th:only-of-type {\n",
       "        vertical-align: middle;\n",
       "    }\n",
       "\n",
       "    .dataframe tbody tr th {\n",
       "        vertical-align: top;\n",
       "    }\n",
       "\n",
       "    .dataframe thead th {\n",
       "        text-align: right;\n",
       "    }\n",
       "</style>\n",
       "<table border=\"1\" class=\"dataframe\">\n",
       "  <thead>\n",
       "    <tr style=\"text-align: right;\">\n",
       "      <th></th>\n",
       "      <th>buying</th>\n",
       "      <th>paint</th>\n",
       "      <th>doors</th>\n",
       "      <th>persons</th>\n",
       "      <th>lug_boot</th>\n",
       "      <th>safety</th>\n",
       "      <th>class</th>\n",
       "    </tr>\n",
       "  </thead>\n",
       "  <tbody>\n",
       "    <tr>\n",
       "      <th>1</th>\n",
       "      <td>432.0</td>\n",
       "      <td>432.0</td>\n",
       "      <td>NaN</td>\n",
       "      <td>NaN</td>\n",
       "      <td>576.0</td>\n",
       "      <td>576.0</td>\n",
       "      <td>1210.0</td>\n",
       "    </tr>\n",
       "    <tr>\n",
       "      <th>2</th>\n",
       "      <td>432.0</td>\n",
       "      <td>432.0</td>\n",
       "      <td>432.0</td>\n",
       "      <td>576.0</td>\n",
       "      <td>576.0</td>\n",
       "      <td>576.0</td>\n",
       "      <td>384.0</td>\n",
       "    </tr>\n",
       "    <tr>\n",
       "      <th>3</th>\n",
       "      <td>432.0</td>\n",
       "      <td>432.0</td>\n",
       "      <td>432.0</td>\n",
       "      <td>NaN</td>\n",
       "      <td>576.0</td>\n",
       "      <td>576.0</td>\n",
       "      <td>69.0</td>\n",
       "    </tr>\n",
       "    <tr>\n",
       "      <th>4</th>\n",
       "      <td>432.0</td>\n",
       "      <td>432.0</td>\n",
       "      <td>432.0</td>\n",
       "      <td>576.0</td>\n",
       "      <td>NaN</td>\n",
       "      <td>NaN</td>\n",
       "      <td>65.0</td>\n",
       "    </tr>\n",
       "    <tr>\n",
       "      <th>5</th>\n",
       "      <td>NaN</td>\n",
       "      <td>NaN</td>\n",
       "      <td>432.0</td>\n",
       "      <td>576.0</td>\n",
       "      <td>NaN</td>\n",
       "      <td>NaN</td>\n",
       "      <td>NaN</td>\n",
       "    </tr>\n",
       "  </tbody>\n",
       "</table>\n",
       "</div>"
      ],
      "text/plain": [
       "   buying  paint  doors  persons  lug_boot  safety  class \n",
       "1   432.0  432.0    NaN      NaN     576.0   576.0  1210.0\n",
       "2   432.0  432.0  432.0    576.0     576.0   576.0   384.0\n",
       "3   432.0  432.0  432.0      NaN     576.0   576.0    69.0\n",
       "4   432.0  432.0  432.0    576.0       NaN     NaN    65.0\n",
       "5     NaN    NaN  432.0    576.0       NaN     NaN     NaN"
      ]
     },
     "execution_count": 109,
     "metadata": {},
     "output_type": "execute_result"
    }
   ],
   "source": [
    "dt.apply(pd.value_counts)"
   ]
  },
  {
   "cell_type": "code",
   "execution_count": 101,
   "metadata": {},
   "outputs": [
    {
     "name": "stdout",
     "output_type": "stream",
     "text": [
      "class 1\n",
      "0.21322314049586777\n",
      "0.22148760330578512\n",
      "0.26776859504132233\n",
      "0.2975206611570248\n",
      "class 2\n",
      "0.23177083333333334\n",
      "0.2994791666666667\n",
      "0.28125\n",
      "0.1875\n",
      "class 3\n",
      "0.6666666666666666\n",
      "0.3333333333333333\n",
      "0.0\n",
      "0.0\n",
      "class 4\n",
      "0.6\n",
      "0.4\n",
      "0.0\n",
      "0.0\n"
     ]
    }
   ],
   "source": [
    "for i in range(1,5):\n",
    "    print('class',i)\n",
    "    for j in range(1,5):\n",
    "        print(dt[(dt['class ']==i)&(dt['buying']==j)].shape[0]/dt[dt['class ']==i].shape[0])"
   ]
  },
  {
   "cell_type": "markdown",
   "metadata": {},
   "source": [
    "### get class 3: 1 , class 4: 1"
   ]
  },
  {
   "cell_type": "code",
   "execution_count": 103,
   "metadata": {},
   "outputs": [
    {
     "name": "stdout",
     "output_type": "stream",
     "text": [
      "class 1\n",
      "0.22148760330578512\n",
      "0.22148760330578512\n",
      "0.25950413223140495\n",
      "0.2975206611570248\n",
      "class 2\n",
      "0.23958333333333334\n",
      "0.2994791666666667\n",
      "0.2734375\n",
      "0.1875\n",
      "class 3\n",
      "0.6666666666666666\n",
      "0.3333333333333333\n",
      "0.0\n",
      "0.0\n",
      "class 4\n",
      "0.4\n",
      "0.4\n",
      "0.2\n",
      "0.0\n"
     ]
    }
   ],
   "source": [
    "for i in range(1,5):\n",
    "    print('class',i)\n",
    "    for j in range(1,5):\n",
    "        print(dt[(dt['class ']==i)&(dt['paint']==j)].shape[0]/dt[dt['class ']==i].shape[0])"
   ]
  },
  {
   "cell_type": "markdown",
   "metadata": {},
   "source": [
    "### get class 3: 1"
   ]
  },
  {
   "cell_type": "code",
   "execution_count": 110,
   "metadata": {},
   "outputs": [
    {
     "name": "stdout",
     "output_type": "stream",
     "text": [
      "class 1\n",
      "0.2694214876033058\n",
      "0.24793388429752067\n",
      "0.2413223140495868\n",
      "0.2413223140495868\n",
      "class 2\n",
      "0.2109375\n",
      "0.2578125\n",
      "0.265625\n",
      "0.265625\n",
      "class 3\n",
      "0.21739130434782608\n",
      "0.2608695652173913\n",
      "0.2608695652173913\n",
      "0.2608695652173913\n",
      "class 4\n",
      "0.15384615384615385\n",
      "0.23076923076923078\n",
      "0.3076923076923077\n",
      "0.3076923076923077\n"
     ]
    }
   ],
   "source": [
    "for i in range(1,5):\n",
    "    print('class',i)\n",
    "    for j in range(2,6):\n",
    "        print(dt[(dt['class ']==i)&(dt['doors']==j)].shape[0]/dt[dt['class ']==i].shape[0])"
   ]
  },
  {
   "cell_type": "code",
   "execution_count": 111,
   "metadata": {},
   "outputs": [
    {
     "name": "stdout",
     "output_type": "stream",
     "text": [
      "class 1\n",
      "0.47603305785123967\n",
      "0.2578512396694215\n",
      "0.26611570247933886\n",
      "class 2\n",
      "0.0\n",
      "0.515625\n",
      "0.484375\n",
      "class 3\n",
      "0.0\n",
      "0.5217391304347826\n",
      "0.4782608695652174\n",
      "class 4\n",
      "0.0\n",
      "0.46153846153846156\n",
      "0.5384615384615384\n"
     ]
    }
   ],
   "source": [
    "for i in range(1,5):\n",
    "    print('class',i)\n",
    "    for j in {2,4,5}:\n",
    "        print(dt[(dt['class ']==i)&(dt['persons']==j)].shape[0]/dt[dt['class ']==i].shape[0])"
   ]
  },
  {
   "cell_type": "code",
   "execution_count": 113,
   "metadata": {},
   "outputs": [
    {
     "name": "stdout",
     "output_type": "stream",
     "text": [
      "class 1\n",
      "0.371900826446281\n",
      "0.3239669421487603\n",
      "0.30413223140495865\n",
      "class 2\n",
      "0.2734375\n",
      "0.3515625\n",
      "0.375\n",
      "class 3\n",
      "0.30434782608695654\n",
      "0.34782608695652173\n",
      "0.34782608695652173\n",
      "class 4\n",
      "0.0\n",
      "0.38461538461538464\n",
      "0.6153846153846154\n"
     ]
    }
   ],
   "source": [
    "for i in range(1,5):\n",
    "    print('class',i)\n",
    "    for j in range(1,4):\n",
    "        print(dt[(dt['class ']==i)&(dt['lug_boot']==j)].shape[0]/dt[dt['class ']==i].shape[0])"
   ]
  },
  {
   "cell_type": "code",
   "execution_count": 114,
   "metadata": {},
   "outputs": [
    {
     "name": "stdout",
     "output_type": "stream",
     "text": [
      "class 1\n",
      "0.47603305785123967\n",
      "0.2950413223140496\n",
      "0.22892561983471074\n",
      "class 2\n",
      "0.0\n",
      "0.46875\n",
      "0.53125\n",
      "class 3\n",
      "0.0\n",
      "0.5652173913043478\n",
      "0.43478260869565216\n",
      "class 4\n",
      "0.0\n",
      "0.0\n",
      "1.0\n"
     ]
    }
   ],
   "source": [
    "for i in range(1,5):\n",
    "    print('class',i)\n",
    "    for j in range(1,4):\n",
    "        print(dt[(dt['class ']==i)&(dt['safety']==j)].shape[0]/dt[dt['class ']==i].shape[0])"
   ]
  },
  {
   "cell_type": "code",
   "execution_count": null,
   "metadata": {},
   "outputs": [],
   "source": [
    "### class 4: 3"
   ]
  },
  {
   "cell_type": "raw",
   "metadata": {},
   "source": [
    "for i in range(1,5):\n",
    "    print('class',i)\n",
    "    for j in range(1,5):\n",
    "        print(dt[(dt['class ']==i)&(dt['buying']==j)].shape[0]/dt[dt['buying']==j].shape[0])"
   ]
  },
  {
   "cell_type": "code",
   "execution_count": 116,
   "metadata": {},
   "outputs": [
    {
     "data": {
      "text/plain": [
       "1.0"
      ]
     },
     "execution_count": 116,
     "metadata": {},
     "output_type": "execute_result"
    }
   ],
   "source": [
    "# for class 1\n",
    "# persons=2\n",
    "# safety=1\n",
    "dt[(dt['persons']==2)&(dt['safety']==1)&(dt['class ']==1)].shape[0]/dt[(dt['persons']==2)&(dt['safety']==1)].shape[0]"
   ]
  },
  {
   "cell_type": "code",
   "execution_count": 121,
   "metadata": {},
   "outputs": [
    {
     "data": {
      "text/plain": [
       "0.5625"
      ]
     },
     "execution_count": 121,
     "metadata": {},
     "output_type": "execute_result"
    }
   ],
   "source": [
    "# for class 2\n",
    "# person=4\n",
    "# safety=3\n",
    "dt[(dt['persons']==4)&(dt['safety']==3)&(dt['class ']==2)].shape[0]/dt[(dt['persons']==4)&(dt['safety']==3)].shape[0]"
   ]
  },
  {
   "cell_type": "code",
   "execution_count": null,
   "metadata": {},
   "outputs": [],
   "source": [
    "# for class 3\n",
    "# buying=1\n",
    "# paint=1\n",
    "# persons=4 /!=2\n",
    "# safety=2 /!=1"
   ]
  },
  {
   "cell_type": "code",
   "execution_count": 126,
   "metadata": {},
   "outputs": [
    {
     "data": {
      "text/plain": [
       "0.5"
      ]
     },
     "execution_count": 126,
     "metadata": {},
     "output_type": "execute_result"
    }
   ],
   "source": [
    "dt[(dt['buying']==1)&(dt['paint']==1)&(dt['class ']==3)&(dt['persons']==4)&(dt['safety']==2)].shape[0]/dt[(dt['buying']==1)&(dt['safety']==2)&(dt['persons']==4)&(dt['paint']==1)].shape[0]"
   ]
  },
  {
   "cell_type": "code",
   "execution_count": 129,
   "metadata": {},
   "outputs": [
    {
     "data": {
      "text/plain": [
       "1.0"
      ]
     },
     "execution_count": 129,
     "metadata": {},
     "output_type": "execute_result"
    }
   ],
   "source": [
    "# for class 4\n",
    "# buying=1\n",
    "# paint != 4\n",
    "# persons=5\n",
    "# lug_boot=3\n",
    "# safety=3\n",
    "dt[(dt['buying']==1)&(dt['paint']!=4)&(dt['persons']==5)&(dt['lug_boot']==3)&(dt['safety']==3)&(dt['class ']==4)].shape[0]/dt[(dt['buying']==1)&(dt['paint']!=4)&(dt['persons']==5)&(dt['lug_boot']==3)&(dt['safety']==3)].shape[0]"
   ]
  },
  {
   "cell_type": "code",
   "execution_count": null,
   "metadata": {},
   "outputs": [],
   "source": []
  }
 ],
 "metadata": {
  "kernelspec": {
   "display_name": "Python 3",
   "language": "python",
   "name": "python3"
  },
  "language_info": {
   "codemirror_mode": {
    "name": "ipython",
    "version": 3
   },
   "file_extension": ".py",
   "mimetype": "text/x-python",
   "name": "python",
   "nbconvert_exporter": "python",
   "pygments_lexer": "ipython3",
   "version": "3.7.1"
  }
 },
 "nbformat": 4,
 "nbformat_minor": 2
}
