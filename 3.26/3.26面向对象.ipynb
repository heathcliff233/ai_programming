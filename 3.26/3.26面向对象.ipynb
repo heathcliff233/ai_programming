{
  "cells": [
    {
      "cell_type": "markdown",
      "source": [
        "# 面向对象"
      ],
      "metadata": {}
    },
    {
      "cell_type": "code",
      "source": [
        "# 类的定义方法"
      ],
      "outputs": [],
      "execution_count": 3,
      "metadata": {}
    },
    {
      "cell_type": "code",
      "source": [
        "class Dog(object):\n",
        "    '''\n",
        "    ah that is good\n",
        "    '''\n",
        "    def setName(self,name):\n",
        "        self.name = name\n",
        "    def greet(self):\n",
        "        print('fuck%s'%self.name)\n",
        "if __name__ == \"__main__\" :\n",
        "    dog = Dog()\n",
        "    dog.setName('Jack')\n",
        "    print(dog.name)\n",
        "    dog.greet()"
      ],
      "outputs": [
        {
          "output_type": "stream",
          "name": "stdout",
          "text": [
            "Jack\n",
            "fuckJack\n"
          ]
        }
      ],
      "execution_count": 4,
      "metadata": {}
    },
    {
      "cell_type": "code",
      "source": [
        "# __init__ 自动调用"
      ],
      "outputs": [],
      "execution_count": null,
      "metadata": {}
    },
    {
      "cell_type": "code",
      "source": [
        "class Dog(object):\n",
        "    '''\n",
        "    ah that is good\n",
        "    '''\n",
        "    def __init__(self,name):\n",
        "        self.name = name\n",
        "    def greet(self):\n",
        "        print('fuck%s'%self.name)\n",
        "if __name__ == \"__main__\" :\n",
        "    dog = Dog('Jack')\n",
        "    print(dog.name)\n",
        "    dog.greet()"
      ],
      "outputs": [
        {
          "output_type": "stream",
          "name": "stdout",
          "text": [
            "Jack\n",
            "fuckJack\n"
          ]
        }
      ],
      "execution_count": 5,
      "metadata": {}
    },
    {
      "cell_type": "markdown",
      "source": [
        "## 继承"
      ],
      "metadata": {}
    },
    {
      "cell_type": "code",
      "source": [
        "# 子类"
      ],
      "outputs": [],
      "execution_count": null,
      "metadata": {}
    },
    {
      "cell_type": "code",
      "source": [
        "class barkingdog(Dog):\n",
        "    def bark(self):\n",
        "        print('barking')\n",
        "if __name__ == '__main__':\n",
        "    dog = barkingdog('bili')\n",
        "    dog.greet()"
      ],
      "outputs": [
        {
          "output_type": "stream",
          "name": "stdout",
          "text": [
            "fuckbili\n"
          ]
        }
      ],
      "execution_count": 8,
      "metadata": {}
    },
    {
      "cell_type": "code",
      "source": [
        "# 子类重写（overriding）"
      ],
      "outputs": [],
      "execution_count": 9,
      "metadata": {}
    },
    {
      "cell_type": "code",
      "source": [
        "class barkingdog(Dog):\n",
        "    def bark(self):\n",
        "        print('barking')\n",
        "    def greet(self):\n",
        "        print('that is good %s'%self.name)\n",
        "if __name__ == '__main__':\n",
        "    dog = barkingdog('bili')\n",
        "    dog.greet()"
      ],
      "outputs": [
        {
          "output_type": "stream",
          "name": "stdout",
          "text": [
            "that is good bili\n"
          ]
        }
      ],
      "execution_count": 10,
      "metadata": {}
    },
    {
      "cell_type": "code",
      "source": [
        "# python 3 super()"
      ],
      "outputs": [],
      "execution_count": 11,
      "metadata": {}
    },
    {
      "cell_type": "code",
      "source": [
        "# Duck typing"
      ],
      "outputs": [],
      "execution_count": 12,
      "metadata": {}
    },
    {
      "cell_type": "markdown",
      "source": [
        "## 重载（overloading）"
      ],
      "metadata": {}
    },
    {
      "cell_type": "code",
      "source": [
        "# 多个同名函数，根据参数个数来调用"
      ],
      "outputs": [],
      "execution_count": 13,
      "metadata": {}
    },
    {
      "cell_type": "code",
      "source": [
        "# python 用不了"
      ],
      "outputs": [],
      "execution_count": 14,
      "metadata": {}
    },
    {
      "cell_type": "markdown",
      "source": [
        "## 访问控制"
      ],
      "metadata": {}
    },
    {
      "cell_type": "code",
      "source": [
        "# 设为private ， 仅类可见"
      ],
      "outputs": [],
      "execution_count": null,
      "metadata": {}
    },
    {
      "cell_type": "code",
      "source": [
        "class P:\n",
        "    def __init__(self,name):\n",
        "        self.__name = name\n",
        "x = P('Jack')\n",
        "x.__name"
      ],
      "outputs": [
        {
          "output_type": "error",
          "ename": "AttributeError",
          "evalue": "'P' object has no attribute '__name'",
          "traceback": [
            "\u001b[0;31m---------------------------------------------------------------------------\u001b[0m",
            "\u001b[0;31mAttributeError\u001b[0m                            Traceback (most recent call last)",
            "\u001b[0;32m<ipython-input-1-bb500a0bc6e3>\u001b[0m in \u001b[0;36m<module>\u001b[0;34m\u001b[0m\n\u001b[1;32m      3\u001b[0m         \u001b[0mself\u001b[0m\u001b[0;34m.\u001b[0m\u001b[0m__name\u001b[0m \u001b[0;34m=\u001b[0m \u001b[0mname\u001b[0m\u001b[0;34m\u001b[0m\u001b[0;34m\u001b[0m\u001b[0m\n\u001b[1;32m      4\u001b[0m \u001b[0mx\u001b[0m \u001b[0;34m=\u001b[0m \u001b[0mP\u001b[0m\u001b[0;34m(\u001b[0m\u001b[0;34m'Jack'\u001b[0m\u001b[0;34m)\u001b[0m\u001b[0;34m\u001b[0m\u001b[0;34m\u001b[0m\u001b[0m\n\u001b[0;32m----> 5\u001b[0;31m \u001b[0mx\u001b[0m\u001b[0;34m.\u001b[0m\u001b[0m__name\u001b[0m\u001b[0;34m\u001b[0m\u001b[0;34m\u001b[0m\u001b[0m\n\u001b[0m",
            "\u001b[0;31mAttributeError\u001b[0m: 'P' object has no attribute '__name'"
          ]
        }
      ],
      "execution_count": 1,
      "metadata": {}
    },
    {
      "cell_type": "code",
      "source": [
        "x._P__name"
      ],
      "outputs": [
        {
          "output_type": "execute_result",
          "execution_count": 3,
          "data": {
            "text/plain": [
              "'Jack'"
            ]
          },
          "metadata": {}
        }
      ],
      "execution_count": 3,
      "metadata": {}
    },
    {
      "cell_type": "code",
      "source": [],
      "outputs": [],
      "execution_count": null,
      "metadata": {}
    }
  ],
  "metadata": {
    "kernelspec": {
      "name": "python3",
      "language": "python",
      "display_name": "Python 3"
    },
    "language_info": {
      "name": "python",
      "version": "3.7.1",
      "mimetype": "text/x-python",
      "codemirror_mode": {
        "name": "ipython",
        "version": 3
      },
      "pygments_lexer": "ipython3",
      "nbconvert_exporter": "python",
      "file_extension": ".py"
    },
    "kernel_info": {
      "name": "python3"
    },
    "nteract": {
      "version": "0.14.0"
    }
  },
  "nbformat": 4,
  "nbformat_minor": 2
}