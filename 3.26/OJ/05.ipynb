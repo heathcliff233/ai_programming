{
 "cells": [
  {
   "cell_type": "code",
   "execution_count": 18,
   "metadata": {},
   "outputs": [
    {
     "name": "stdin",
     "output_type": "stream",
     "text": [
      " 1.1,23\n"
     ]
    },
    {
     "name": "stdout",
     "output_type": "stream",
     "text": [
      "Your bmi is 19.0.\n",
      "Normal\n"
     ]
    }
   ],
   "source": [
    "class BMI(object):\n",
    "    '''\n",
    "    ah that is good\n",
    "    '''\n",
    "    def __init__(self,height,weight):\n",
    "        self.height = height\n",
    "        self.weight = weight\n",
    "    def printBMI(self):\n",
    "        m = self.weight / (self.height * self.height)\n",
    "        print('{:.1f}'.format(m))\n",
    "class ChinaBMI(BMI):\n",
    "    def printBMI(self):\n",
    "        m = self.weight / (self.height * self.height)\n",
    "        print('Your bmi is {0:.1f}.'.format(m))\n",
    "        if (m < 18.5):\n",
    "            print('Skinny')\n",
    "        elif(18.5<=m<=23.9):\n",
    "            print('Normal')\n",
    "        elif(24.0<=m<=26.9):\n",
    "            print('Fat')\n",
    "        elif(26.9<=m<=29.9):\n",
    "            print('Obesity')\n",
    "        else:\n",
    "            print('Severe obesity')\n",
    "        return 1\n",
    "if __name__ == \"__main__\" :\n",
    "    a = input().split(',')\n",
    "    weight = float(a.pop())\n",
    "    height = float(a.pop())\n",
    "    dog = ChinaBMI(height,weight)\n",
    "    p = dog.printBMI()\n",
    "\n"
   ]
  },
  {
   "cell_type": "code",
   "execution_count": null,
   "metadata": {},
   "outputs": [],
   "source": [
    "if (m < 18.5):\n",
    "            print('Skinny')\n",
    "        elif(18.5<=m<=23.9):\n",
    "            print('Normal')\n",
    "        elif(24.0<=m<=26.9):\n",
    "            print('Fat')\n",
    "        elif(26.9<=m<=29.9):\n",
    "            print('Obesity')\n",
    "        else:\n",
    "            print('Severe obesity')\n",
    "            \n",
    "            print('Your bmi is {0:.1f}.'.format(m))"
   ]
  }
 ],
 "metadata": {
  "kernelspec": {
   "display_name": "Python 3",
   "language": "python",
   "name": "python3"
  },
  "language_info": {
   "codemirror_mode": {
    "name": "ipython",
    "version": 3
   },
   "file_extension": ".py",
   "mimetype": "text/x-python",
   "name": "python",
   "nbconvert_exporter": "python",
   "pygments_lexer": "ipython3",
   "version": "3.7.1"
  }
 },
 "nbformat": 4,
 "nbformat_minor": 2
}
