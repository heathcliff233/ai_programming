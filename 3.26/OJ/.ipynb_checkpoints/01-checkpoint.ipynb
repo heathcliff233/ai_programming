{
 "cells": [
  {
   "cell_type": "code",
   "execution_count": 16,
   "metadata": {},
   "outputs": [
    {
     "name": "stdin",
     "output_type": "stream",
     "text": [
      " 18273,38372,2827\n"
     ]
    },
    {
     "name": "stdout",
     "output_type": "stream",
     "text": [
      "not found\n"
     ]
    }
   ],
   "source": [
    "def pandigit(nums,ot):\n",
    "    flag = 0\n",
    "    n = len(nums)\n",
    "    for i in range(1,n+1):\n",
    "        if (nums.find(str(i))==-1):\n",
    "            flag += 1\n",
    "    if (flag == 0):\n",
    "        print(int(nums))\n",
    "        ot += 1\n",
    "    return ot\n",
    "if __name__ == '__main__':\n",
    "    x = input().split(',')\n",
    "    ot = 0\n",
    "    for p in x :\n",
    "        ot = pandigit(p,ot)\n",
    "    if(ot == 0):\n",
    "        print('not found')"
   ]
  },
  {
   "cell_type": "code",
   "execution_count": null,
   "metadata": {},
   "outputs": [],
   "source": []
  }
 ],
 "metadata": {
  "kernelspec": {
   "display_name": "Python 3",
   "language": "python",
   "name": "python3"
  },
  "language_info": {
   "codemirror_mode": {
    "name": "ipython",
    "version": 3
   },
   "file_extension": ".py",
   "mimetype": "text/x-python",
   "name": "python",
   "nbconvert_exporter": "python",
   "pygments_lexer": "ipython3",
   "version": "3.7.1"
  }
 },
 "nbformat": 4,
 "nbformat_minor": 2
}
