{
 "cells": [
  {
   "cell_type": "code",
   "execution_count": 14,
   "metadata": {},
   "outputs": [
    {
     "name": "stdin",
     "output_type": "stream",
     "text": [
      " 120\n"
     ]
    },
    {
     "name": "stdout",
     "output_type": "stream",
     "text": [
      "not found\n"
     ]
    }
   ],
   "source": [
    "def twonums_sum(n,lst) :\n",
    "    l = len(lst)\n",
    "    for i in range(l):\n",
    "        a = lst[i]\n",
    "        b = n-lst[i]\n",
    "        id = str(lst).find(str(b))\n",
    "        if(id != -1):\n",
    "            p = lst.index(b)\n",
    "            return (i,p)\n",
    "            break\n",
    "    else:\n",
    "        return -1\n",
    "if __name__ == '__main__':\n",
    "    lst = [1,4,5,6,7,8,9,10,11,12,13,15,18,19,20,21,29,34,54,65]\n",
    "    n = int(input())\n",
    "    a = twonums_sum(n,lst)\n",
    "    if(a==-1):\n",
    "        print('not found')\n",
    "    else:\n",
    "        print(a)"
   ]
  },
  {
   "cell_type": "code",
   "execution_count": null,
   "metadata": {},
   "outputs": [],
   "source": []
  }
 ],
 "metadata": {
  "kernelspec": {
   "display_name": "Python 3",
   "language": "python",
   "name": "python3"
  },
  "language_info": {
   "codemirror_mode": {
    "name": "ipython",
    "version": 3
   },
   "file_extension": ".py",
   "mimetype": "text/x-python",
   "name": "python",
   "nbconvert_exporter": "python",
   "pygments_lexer": "ipython3",
   "version": "3.7.1"
  }
 },
 "nbformat": 4,
 "nbformat_minor": 2
}
