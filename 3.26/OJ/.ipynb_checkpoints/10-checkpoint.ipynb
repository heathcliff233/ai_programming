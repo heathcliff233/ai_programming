{
 "cells": [
  {
   "cell_type": "code",
   "execution_count": 7,
   "metadata": {},
   "outputs": [],
   "source": [
    "class Person(object):\n",
    "    count = 0\n",
    "    '''\n",
    "    ah that is good\n",
    "    '''\n",
    "    def __init__(self,name,sex,age,score):\n",
    "        self.name = name\n",
    "        self.sex = sex\n",
    "        self.age = age\n",
    "        self.score = score\n",
    "        Person.count += 1\n",
    "    def battle(self):\n",
    "        self.score -= 100\n",
    "    def practice(self):\n",
    "        self.score += 200\n",
    "    def eat(self):\n",
    "        self.score += 80\n",
    "    def info(self):\n",
    "        print('I am player {0} {1}, I have {2} fighting value.'.format(Person.count,self.name,self.score))    "
   ]
  },
  {
   "cell_type": "code",
   "execution_count": 8,
   "metadata": {},
   "outputs": [
    {
     "name": "stdout",
     "output_type": "stream",
     "text": [
      "I am player 1 Wangzijing, I have 2000 fighting value.\n",
      "I am player 1 Wangzijing, I have 1980 fighting value.\n",
      "I am player 2 Lipeiran, I have 1760 fighting value.\n"
     ]
    }
   ],
   "source": [
    "if __name__ == \"__main__\" :\n",
    "    player1 = Person('Wangzijing','F',18,2000)\n",
    "    player1.info()\n",
    "    player1.battle()\n",
    "    player1.eat()\n",
    "    player1.info()\n",
    "    player2 = Person('Lipeiran','M',19,1500)\n",
    "    player2.practice()\n",
    "    player2.battle()\n",
    "    player2.eat()\n",
    "    player2.eat()\n",
    "    player2.info()"
   ]
  },
  {
   "cell_type": "code",
   "execution_count": null,
   "metadata": {},
   "outputs": [],
   "source": []
  }
 ],
 "metadata": {
  "kernelspec": {
   "display_name": "Python 3",
   "language": "python",
   "name": "python3"
  },
  "language_info": {
   "codemirror_mode": {
    "name": "ipython",
    "version": 3
   },
   "file_extension": ".py",
   "mimetype": "text/x-python",
   "name": "python",
   "nbconvert_exporter": "python",
   "pygments_lexer": "ipython3",
   "version": "3.7.1"
  }
 },
 "nbformat": 4,
 "nbformat_minor": 2
}
