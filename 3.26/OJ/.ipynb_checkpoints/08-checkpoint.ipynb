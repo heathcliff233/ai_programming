{
 "cells": [
  {
   "cell_type": "code",
   "execution_count": 4,
   "metadata": {},
   "outputs": [
    {
     "name": "stdin",
     "output_type": "stream",
     "text": [
      " 1 2 3 4 5\n",
      " 6 7 8 9 10 17\n"
     ]
    },
    {
     "name": "stdout",
     "output_type": "stream",
     "text": [
      "1.0\n"
     ]
    }
   ],
   "source": [
    "import math\n",
    "a = input().split()\n",
    "for i in range(len(a)) :\n",
    "    a[i] = int(a[i])\n",
    "b = input().split()\n",
    "for i in range(len(b)) :\n",
    "    b[i] = int(b[i])\n",
    "mini = math.fabs(a[0]-b[0])\n",
    "for i in range(len(a)):\n",
    "    for j in range(len(b)):\n",
    "        if(math.fabs(a[i]-b[j])< mini):\n",
    "            mini = math.fabs(a[i]-b[j])\n",
    "print(int(mini))"
   ]
  },
  {
   "cell_type": "code",
   "execution_count": null,
   "metadata": {},
   "outputs": [],
   "source": []
  }
 ],
 "metadata": {
  "kernelspec": {
   "display_name": "Python 3",
   "language": "python",
   "name": "python3"
  },
  "language_info": {
   "codemirror_mode": {
    "name": "ipython",
    "version": 3
   },
   "file_extension": ".py",
   "mimetype": "text/x-python",
   "name": "python",
   "nbconvert_exporter": "python",
   "pygments_lexer": "ipython3",
   "version": "3.7.1"
  }
 },
 "nbformat": 4,
 "nbformat_minor": 2
}
