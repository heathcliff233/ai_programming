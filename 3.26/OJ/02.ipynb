{
 "cells": [
  {
   "cell_type": "code",
   "execution_count": 2,
   "metadata": {},
   "outputs": [
    {
     "name": "stdout",
     "output_type": "stream",
     "text": [
      "It's a true proposition.\n"
     ]
    }
   ],
   "source": [
    "i = 3\n",
    "while(37*i<1000):\n",
    "    n = 37*i\n",
    "    n1 = (n%100)*10+n//100\n",
    "    n2 = n//10+(n%10)*100\n",
    "    if (n1%37!=0 or n2%37!=0):\n",
    "        print('It\\'s a false proposition.')\n",
    "        break\n",
    "    i += 1\n",
    "else:\n",
    "    print('It\\'s a true proposition.')"
   ]
  },
  {
   "cell_type": "code",
   "execution_count": null,
   "metadata": {},
   "outputs": [],
   "source": []
  }
 ],
 "metadata": {
  "kernelspec": {
   "display_name": "Python 3",
   "language": "python",
   "name": "python3"
  },
  "language_info": {
   "codemirror_mode": {
    "name": "ipython",
    "version": 3
   },
   "file_extension": ".py",
   "mimetype": "text/x-python",
   "name": "python",
   "nbconvert_exporter": "python",
   "pygments_lexer": "ipython3",
   "version": "3.7.1"
  }
 },
 "nbformat": 4,
 "nbformat_minor": 2
}
