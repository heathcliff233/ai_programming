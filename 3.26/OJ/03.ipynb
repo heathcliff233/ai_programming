{
 "cells": [
  {
   "cell_type": "code",
   "execution_count": 2,
   "metadata": {},
   "outputs": [
    {
     "name": "stdin",
     "output_type": "stream",
     "text": [
      " ['32Cappuccino/', '#_Americano30', '/34Latte', '#Mocha35']\n",
      " 2\n"
     ]
    },
    {
     "name": "stdout",
     "output_type": "stream",
     "text": [
      "Americano\n"
     ]
    }
   ],
   "source": [
    "def clean_list(lst):\n",
    "    n = len(lst)\n",
    "    for j in range(n) :\n",
    "        cof = lst[j]\n",
    "        for i in cof[:] :\n",
    "            if ((ord(i)>=65 and ord(i)<=90) or (ord(i)>=97 and ord(i)<=122)):\n",
    "                pass\n",
    "            else:\n",
    "                cof = cof.replace(i,'')\n",
    "        lst[j]=cof\n",
    "    return lst\n",
    "if __name__ == '__main__':\n",
    "    lst = eval(input())\n",
    "    m = int(input())\n",
    "    lst = clean_list(lst)\n",
    "    print(lst[m-1])"
   ]
  },
  {
   "cell_type": "code",
   "execution_count": 13,
   "metadata": {},
   "outputs": [
    {
     "data": {
      "text/plain": [
       "'Latte'"
      ]
     },
     "execution_count": 13,
     "metadata": {},
     "output_type": "execute_result"
    }
   ],
   "source": [
    "lst[2]"
   ]
  },
  {
   "cell_type": "code",
   "execution_count": null,
   "metadata": {},
   "outputs": [],
   "source": []
  }
 ],
 "metadata": {
  "kernelspec": {
   "display_name": "Python 3",
   "language": "python",
   "name": "python3"
  },
  "language_info": {
   "codemirror_mode": {
    "name": "ipython",
    "version": 3
   },
   "file_extension": ".py",
   "mimetype": "text/x-python",
   "name": "python",
   "nbconvert_exporter": "python",
   "pygments_lexer": "ipython3",
   "version": "3.7.1"
  }
 },
 "nbformat": 4,
 "nbformat_minor": 2
}
