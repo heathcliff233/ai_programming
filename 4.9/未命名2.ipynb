{
 "cells": [
  {
   "cell_type": "code",
   "execution_count": null,
   "metadata": {},
   "outputs": [],
   "source": [
    "aaaabbbbcccddddaaafffh"
   ]
  },
  {
   "cell_type": "code",
   "execution_count": null,
   "metadata": {},
   "outputs": [],
   "source": [
    "raw = list(input())\n",
    "lst = []\n",
    "i = 0\n",
    "n = len(raw)\n",
    "\n",
    "lst += [raw[i]]\n",
    "count = 1\n",
    "while i < n :\n",
    "    while raw[i+1] == raw[i] :\n",
    "        count += 1\n",
    "        i += 1\n",
    "    lst += [count]\n",
    "    lst += [raw[i+1]]\n",
    "    count = 1\n",
    "out = str(lst)"
   ]
  },
  {
   "cell_type": "code",
   "execution_count": null,
   "metadata": {},
   "outputs": [],
   "source": []
  }
 ],
 "metadata": {
  "kernelspec": {
   "display_name": "Python 3",
   "language": "python",
   "name": "python3"
  },
  "language_info": {
   "codemirror_mode": {
    "name": "ipython",
    "version": 3
   },
   "file_extension": ".py",
   "mimetype": "text/x-python",
   "name": "python",
   "nbconvert_exporter": "python",
   "pygments_lexer": "ipython3",
   "version": "3.7.1"
  }
 },
 "nbformat": 4,
 "nbformat_minor": 2
}
