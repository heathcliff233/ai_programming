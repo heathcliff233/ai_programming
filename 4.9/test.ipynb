{
 "cells": [
  {
   "cell_type": "code",
   "execution_count": 3,
   "metadata": {},
   "outputs": [
    {
     "name": "stdin",
     "output_type": "stream",
     "text": [
      " 2 5\n"
     ]
    },
    {
     "name": "stdout",
     "output_type": "stream",
     "text": [
      "24690\n"
     ]
    }
   ],
   "source": [
    "a,b = input().split(' ')\n",
    "n = int(b)\n",
    "sum = 0\n",
    "for i in range(n):\n",
    "    sum+= int((i+1)*a)\n",
    "print(sum)"
   ]
  },
  {
   "cell_type": "code",
   "execution_count": 20,
   "metadata": {},
   "outputs": [
    {
     "name": "stdin",
     "output_type": "stream",
     "text": [
      " This is a computer sentence.\n"
     ]
    },
    {
     "name": "stdout",
     "output_type": "stream",
     "text": [
      "computer\n"
     ]
    }
   ],
   "source": [
    "col = input().split()\n",
    "fob1 = ',.!?'\n",
    "fob2 = '...'\n",
    "for i in range(len(col)) :\n",
    "    if (len(col[i])>3):\n",
    "        if (col[i][-3:] == fob2):\n",
    "            col[i] = col[i][:-3]\n",
    "    if (col[i][-1] in fob1 ):\n",
    "        col[i] = col[i][:-1]\n",
    "lst = [len(x) for x in col]\n",
    "b = sorted(lst)\n",
    "s = lst.index(b[-1])\n",
    "print(col[s])\n",
    "lst.pop(s)\n",
    "col.pop(s)\n",
    "while True :\n",
    "    try :\n",
    "        s = lst.index(b[-1])\n",
    "        print(', %'%col[s])\n",
    "        lst.pop(s)\n",
    "        col.pop(s)\n",
    "    except ValueError :\n",
    "        break"
   ]
  },
  {
   "cell_type": "code",
   "execution_count": 25,
   "metadata": {},
   "outputs": [
    {
     "name": "stdin",
     "output_type": "stream",
     "text": [
      " This is a computer sentence.\n"
     ]
    },
    {
     "name": "stdout",
     "output_type": "stream",
     "text": [
      "computer\n",
      ", sentence"
     ]
    }
   ],
   "source": [
    "col = input().split()\n",
    "fob1 = ',.!?'\n",
    "fob2 = '...'\n",
    "for i in range(len(col)) :\n",
    "    if (len(col[i])>3):\n",
    "        if (col[i][-3:] == fob2):\n",
    "            col[i] = col[i][:-3]\n",
    "    if (col[i][-1] in fob1 ):\n",
    "        col[i] = col[i][:-1]\n",
    "lst = [len(x) for x in col]\n",
    "b = sorted(lst)\n",
    "c = b.count(b[-1])\n",
    "if c==1 :\n",
    "    s = lst.index(b[-1])\n",
    "    print(col[s],end='')\n",
    "else:\n",
    "    s = lst.index(b[-1])\n",
    "    print(col[s])\n",
    "    for i in range(c-1):\n",
    "        lst.pop(s)\n",
    "        col.pop(s)\n",
    "        s = lst.index(b[-1])\n",
    "        print(', {0}'.format(col[s]),end='')"
   ]
  },
  {
   "cell_type": "code",
   "execution_count": null,
   "metadata": {},
   "outputs": [],
   "source": []
  }
 ],
 "metadata": {
  "kernelspec": {
   "display_name": "Python 3",
   "language": "python",
   "name": "python3"
  },
  "language_info": {
   "codemirror_mode": {
    "name": "ipython",
    "version": 3
   },
   "file_extension": ".py",
   "mimetype": "text/x-python",
   "name": "python",
   "nbconvert_exporter": "python",
   "pygments_lexer": "ipython3",
   "version": "3.7.1"
  }
 },
 "nbformat": 4,
 "nbformat_minor": 2
}
