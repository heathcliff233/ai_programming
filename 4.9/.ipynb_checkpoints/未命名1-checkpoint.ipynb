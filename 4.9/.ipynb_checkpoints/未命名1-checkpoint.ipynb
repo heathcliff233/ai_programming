{
 "cells": [
  {
   "cell_type": "code",
   "execution_count": 31,
   "metadata": {},
   "outputs": [
    {
     "name": "stdin",
     "output_type": "stream",
     "text": [
      "  This is a computer sentence.\n"
     ]
    },
    {
     "name": "stdout",
     "output_type": "stream",
     "text": [
      "computer, sentence"
     ]
    }
   ],
   "source": [
    "col = input().split()\n",
    "fob1 = ',.!?'\n",
    "fob2 = '...'\n",
    "for i in range(len(col)) :\n",
    "    if (len(col[i])>3):\n",
    "        if (col[i][-3:] == fob2):\n",
    "            col[i] = col[i][:-3]\n",
    "    if (col[i][-1] in fob1 ):\n",
    "        col[i] = col[i][:-1]\n",
    "lst = [len(x) for x in col]\n",
    "b = sorted(lst)\n",
    "c = b.count(b[-1])\n",
    "if c==1 :\n",
    "    s = lst.index(b[-1])\n",
    "    print(col[s],end='')\n",
    "else:\n",
    "    s = lst.index(b[-1])\n",
    "    print(col[s],end='')\n",
    "    for i in range(c-1):\n",
    "        lst.pop(s)\n",
    "        col.pop(s)\n",
    "        s = lst.index(b[-1])\n",
    "        print(', {0}'.format(col[s]),end='')"
   ]
  },
  {
   "cell_type": "code",
   "execution_count": 5,
   "metadata": {},
   "outputs": [
    {
     "ename": "IndentationError",
     "evalue": "unindent does not match any outer indentation level (<tokenize>, line 13)",
     "output_type": "error",
     "traceback": [
      "\u001b[0;36m  File \u001b[0;32m\"<tokenize>\"\u001b[0;36m, line \u001b[0;32m13\u001b[0m\n\u001b[0;31m    out += s[0]\u001b[0m\n\u001b[0m    ^\u001b[0m\n\u001b[0;31mIndentationError\u001b[0m\u001b[0;31m:\u001b[0m unindent does not match any outer indentation level\n"
     ]
    }
   ],
   "source": [
    "pt = input()\n",
    "s = list(pt)\n",
    "out = ''\n",
    "n = len(pt)\n",
    "i = 0\n",
    "while s != [] :\n",
    "    ini = s[0]\n",
    "    count = 1\n",
    "    try:\n",
    "         while s[1] == s[0] :\n",
    "            s.pop(1)\n",
    "            count += 1\n",
    "        out += s[0]\n",
    "        out += 'count'\n",
    "    except IndexError:\n",
    "        pass\n",
    "    s.pop(0)\n",
    "print(out)"
   ]
  },
  {
   "cell_type": "code",
   "execution_count": 30,
   "metadata": {},
   "outputs": [
    {
     "name": "stdin",
     "output_type": "stream",
     "text": [
      " aaaabbbbcccddddaaafffh\n"
     ]
    },
    {
     "data": {
      "text/plain": [
       "'a4b4c3d4a3f3h1'"
      ]
     },
     "execution_count": 30,
     "metadata": {},
     "output_type": "execute_result"
    }
   ],
   "source": [
    "raw = list(input())\n",
    "lst = []\n",
    "i = 0\n",
    "n = len(raw)\n",
    "\n",
    "lst += [raw[i]]\n",
    "count = 1\n",
    "while i < n-1 :\n",
    "    while raw[i+1] == raw[i] :\n",
    "        count += 1\n",
    "        i += 1\n",
    "\n",
    "    lst += [count]\n",
    "    if i == n-2 :\n",
    "        lst += [raw[i+1]]\n",
    "        lst += ['1']\n",
    "        i += 1\n",
    "    else:\n",
    "        lst += [raw[i+1]]\n",
    "        count = 1\n",
    "        i += 1\n",
    "p = ''\n",
    "for i in range(len(lst)):\n",
    "    p += str(lst[i])\n",
    "p"
   ]
  },
  {
   "cell_type": "code",
   "execution_count": 16,
   "metadata": {},
   "outputs": [
    {
     "data": {
      "text/plain": [
       "\"['a', 4, 'b', 4, 'c', 3, 'd', 4, 'a', 3, 'f', 3, 'h']\""
      ]
     },
     "execution_count": 16,
     "metadata": {},
     "output_type": "execute_result"
    }
   ],
   "source": [
    "out"
   ]
  },
  {
   "cell_type": "code",
   "execution_count": 29,
   "metadata": {},
   "outputs": [
    {
     "data": {
      "text/plain": [
       "'a4b4c3d4a3f3h1'"
      ]
     },
     "execution_count": 29,
     "metadata": {},
     "output_type": "execute_result"
    }
   ],
   "source": [
    "p"
   ]
  },
  {
   "cell_type": "code",
   "execution_count": 21,
   "metadata": {},
   "outputs": [
    {
     "data": {
      "text/plain": [
       "'['"
      ]
     },
     "execution_count": 21,
     "metadata": {},
     "output_type": "execute_result"
    }
   ],
   "source": [
    "str(out[0])"
   ]
  },
  {
   "cell_type": "code",
   "execution_count": null,
   "metadata": {},
   "outputs": [],
   "source": []
  }
 ],
 "metadata": {
  "kernelspec": {
   "display_name": "Python 3",
   "language": "python",
   "name": "python3"
  },
  "language_info": {
   "codemirror_mode": {
    "name": "ipython",
    "version": 3
   },
   "file_extension": ".py",
   "mimetype": "text/x-python",
   "name": "python",
   "nbconvert_exporter": "python",
   "pygments_lexer": "ipython3",
   "version": "3.7.1"
  }
 },
 "nbformat": 4,
 "nbformat_minor": 2
}
